{
 "cells": [
  {
   "cell_type": "markdown",
   "metadata": {},
   "source": [
    "# Problem 3 - Housing Prices"
   ]
  },
  {
   "cell_type": "markdown",
   "metadata": {},
   "source": [
    " Firstly we import all libraries that we are going to use in below to solve problem."
   ]
  },
  {
   "cell_type": "code",
   "execution_count": null,
   "metadata": {},
   "outputs": [],
   "source": [
    "#Importing libraries\n",
    "import numpy as np\n",
    "import matplotlib.pyplot as plt\n",
    "import pandas as pd\n",
    "from sklearn.preprocessing import LabelEncoder\n",
    "from sklearn.preprocessing import LabelEncoder, OneHotEncoder\n",
    "from sklearn.preprocessing import Imputer\n",
    "from sklearn.metrics import r2_score\n",
    "from sklearn.linear_model import LinearRegression\n",
    "from sklearn.cross_validation import train_test_split"
   ]
  },
  {
   "cell_type": "markdown",
   "metadata": {},
   "source": [
    "Now we define a function to prepare training and testing data that will be apropriate for madel, this step contain multiple steps\n",
    "\n",
    "1. Deal with Build date, and split to multiple feature\n",
    "2. Label encoding AM/PM\n",
    "3. Add 12 hours if it is PM\n",
    "4. Do step 1,2 and 3 for Priced date also\n",
    "5. Apply LabelEncoder and OneHotEncoder on categorical features(Garden Space, Renovation, King's Visit, In front, Location, Holy Tree or not, Builder, Sorcerer)\n",
    "6. Return final data"
   ]
  },
  {
   "cell_type": "code",
   "execution_count": null,
   "metadata": {
    "collapsed": true
   },
   "outputs": [],
   "source": [
    "def prepare(X):\n",
    "    #Change X to DataFrame\n",
    "    X = pd.DataFrame(X,columns = ['Build_Date','Priced_Date','Garden_Space','Dock','Capital','Royal','Guarding','River','Renovation','Dining_Rooms','Bedromms','Bathrooms','Visit','Sorcerer','Blessings','In_Front','Location','Holy_Tree','Distance_from_Knight','Builder'])\n",
    "\n",
    "    ######## Start Dealing with Dates ########\n",
    "    \n",
    "    #Split Build_Date\n",
    "    temp = pd.DataFrame(X.Build_Date.str.split().tolist(), columns=\"Date Time Meridiem\".split())\n",
    "    temp2 = pd.DataFrame(temp.Date.str.split('/').tolist(), columns=\"Build_Month Build_Day Build_Year\".split())\n",
    "    temp3 = pd.DataFrame(temp.Time.str.split(':').tolist(), columns=\"Build_Hour Build_Minutes\".split())\n",
    "    temp4 = pd.DataFrame(temp.iloc[:,-1].values, columns = ['Build_Meridiem'])\n",
    "    \n",
    "    #Concatinate Date,Time and Meridiem\n",
    "    result = pd.concat([temp2,temp3,temp4],axis=1)\n",
    "    \n",
    "    #Label Encoding Build_Date\n",
    "    labelencoder = LabelEncoder()\n",
    "    test = result.iloc[:,:].values\n",
    "    test[:,5] = labelencoder.fit_transform(test[:, 5])\n",
    "    test = pd.DataFrame(test,columns=['Build_Month','Build_Day','Build_Year','Build_Hour','Build_Minutes','Build_Meridiem'])\n",
    "    test['Build_Hour'] = test['Build_Hour'].astype(int)\n",
    "    test['Build_Meridiem'] = test['Build_Meridiem'].astype(int)\n",
    "    chukk = []\n",
    "    for i in range(test.shape[0]):\n",
    "        if test['Build_Meridiem'][i] == 1 :\n",
    "            chukk.append(test['Build_Hour'][i] + 12)\n",
    "        else:\n",
    "            chukk.append(test['Build_Hour'][i])\n",
    "    test['Build_Hour'] = chukk\n",
    "    X = pd.concat([X,test], axis=1)\n",
    "    X.drop('Build_Date',axis=1,inplace=True)\n",
    "    \n",
    "    #Split Priced_Date\n",
    "    temp = pd.DataFrame(X.Priced_Date.str.split().tolist(), columns=\"Date Time Meridiem\".split())\n",
    "    temp2 = pd.DataFrame(temp.Date.str.split('/').tolist(), columns=\"Priced_Month Priced_Day Priced_Year\".split())\n",
    "    temp3 = pd.DataFrame(temp.Time.str.split(':').tolist(), columns=\"Priced_Hour Priced_Minutes\".split())\n",
    "    temp4 = pd.DataFrame(temp.iloc[:,-1].values, columns = ['Priced_Meridiem'])\n",
    "    \n",
    "    #Concatinate Date,Time and Meridiem\n",
    "    result = pd.concat([temp2,temp3,temp4],axis=1)\n",
    "    \n",
    "    #Label Encoding Priced_Date\n",
    "    labelencoder = LabelEncoder()\n",
    "    test = result.iloc[:,:].values\n",
    "    test[:,5] = labelencoder.fit_transform(test[:, 5])\n",
    "    test = pd.DataFrame(test,columns=['Priced_Month','Priced_Day','Priced_Year','Priced_Hour','Priced_Minutes','Priced_Meridiem'])\n",
    "    test['Priced_Hour'] = test['Priced_Hour'].astype(int)\n",
    "    test['Priced_Meridiem'] = test['Priced_Meridiem'].astype(int)\n",
    "    chukk = []\n",
    "    for i in range(test.shape[0]):\n",
    "        if test['Priced_Meridiem'][i] == 1 :\n",
    "            chukk.append(test['Priced_Hour'][i] + 12)\n",
    "        else:\n",
    "            chukk.append(test['Priced_Hour'][i])\n",
    "    test['Priced_Hour'] = chukk\n",
    "    X = pd.concat([X,test], axis=1)\n",
    "    X.drop('Priced_Date',axis=1,inplace=True)\n",
    "\n",
    "    ######## End Dealing with Dates ########\n",
    "    \n",
    "    X = (X.iloc[:,:].values).astype(float)\n",
    "    \n",
    "    # Encoding categorical data\n",
    "    labelencoder_X = LabelEncoder()\n",
    "    \n",
    "    X[:, 0] = labelencoder_X.fit_transform(X[:, 0])\n",
    "    onehotencoder = OneHotEncoder(categorical_features = [0])\n",
    "    X = onehotencoder.fit_transform(X).toarray()\n",
    "    X = X[:,1:]\n",
    "    \n",
    "    X[:, 7] = labelencoder_X.fit_transform(X[:, 7])\n",
    "    onehotencoder = OneHotEncoder(categorical_features = [7])\n",
    "    X = onehotencoder.fit_transform(X).toarray()\n",
    "    X = X[:,1:]\n",
    "    \n",
    "    X[:, 12] = labelencoder_X.fit_transform(X[:, 12])\n",
    "    onehotencoder = OneHotEncoder(categorical_features = [12])\n",
    "    X = onehotencoder.fit_transform(X).toarray()\n",
    "    X = X[:,1:]\n",
    "    \n",
    "    X[:, 15] = labelencoder_X.fit_transform(X[:, 15])\n",
    "    onehotencoder = OneHotEncoder(categorical_features = [15])\n",
    "    X = onehotencoder.fit_transform(X).toarray()\n",
    "    X = X[:,1:]\n",
    "    \n",
    "    X[:, 17] = labelencoder_X.fit_transform(X[:, 17])\n",
    "    onehotencoder = OneHotEncoder(categorical_features = [17])\n",
    "    X = onehotencoder.fit_transform(X).toarray()\n",
    "    X = X[:,1:]\n",
    "    \n",
    "    X[:, 21] = labelencoder_X.fit_transform(X[:, 21])\n",
    "    onehotencoder = OneHotEncoder(categorical_features = [21])\n",
    "    X = onehotencoder.fit_transform(X).toarray()\n",
    "    X = X[:,1:]\n",
    "    \n",
    "    X[:, 24] = labelencoder_X.fit_transform(X[:, 24])\n",
    "    onehotencoder = OneHotEncoder(categorical_features = [24])\n",
    "    X = onehotencoder.fit_transform(X).toarray()\n",
    "    X = X[:,1:]\n",
    "    \n",
    "    X[:, 31] = labelencoder_X.fit_transform(X[:, 31])\n",
    "    onehotencoder = OneHotEncoder(categorical_features = [31])\n",
    "    X = onehotencoder.fit_transform(X).toarray()\n",
    "    X = X[:,1:]\n",
    "        \n",
    "    return X\n"
   ]
  },
  {
   "cell_type": "markdown",
   "metadata": {},
   "source": [
    "Import dataset to train model and split dataset to X and y"
   ]
  },
  {
   "cell_type": "code",
   "execution_count": null,
   "metadata": {
    "collapsed": true
   },
   "outputs": [],
   "source": [
    "#Importing datasets\n",
    "dataset = pd.read_csv('train.csv')\n",
    "X = dataset.iloc[:, 1:-1].values\n",
    "y = dataset.iloc[:, -1].values"
   ]
  },
  {
   "cell_type": "markdown",
   "metadata": {},
   "source": [
    "Now replace NaN or missing value with mean value of column"
   ]
  },
  {
   "cell_type": "code",
   "execution_count": null,
   "metadata": {
    "collapsed": true
   },
   "outputs": [],
   "source": [
    "#Taking care of missing data\n",
    "imputer = Imputer(missing_values = 'NaN',strategy = 'mean',axis = 0)\n",
    "imputer = imputer.fit(X[:,2:])\n",
    "X[:,2:] = imputer.transform(X[:,2:])"
   ]
  },
  {
   "cell_type": "markdown",
   "metadata": {},
   "source": [
    "Prepare X for model by calling function that we were created above"
   ]
  },
  {
   "cell_type": "code",
   "execution_count": null,
   "metadata": {
    "collapsed": true
   },
   "outputs": [],
   "source": [
    "#Prepare X\n",
    "X = prepare(X)"
   ]
  },
  {
   "cell_type": "markdown",
   "metadata": {},
   "source": [
    "Split X to Train and Test set by 80% and 20% respectively"
   ]
  },
  {
   "cell_type": "code",
   "execution_count": null,
   "metadata": {
    "collapsed": true
   },
   "outputs": [],
   "source": [
    "# Splitting the dataset into the Training set and Test set\n",
    "X_train, X_test, y_train,y_test = train_test_split(X, y, test_size = 0.2, random_state = 0)"
   ]
  },
  {
   "cell_type": "markdown",
   "metadata": {},
   "source": [
    "Fitting model on training set"
   ]
  },
  {
   "cell_type": "code",
   "execution_count": null,
   "metadata": {},
   "outputs": [],
   "source": [
    "#Fitting Multiple Linear Regression to Training set\n",
    "regressor = LinearRegression(fit_intercept = True)\n",
    "regressor.fit(X_train, y_train)"
   ]
  },
  {
   "cell_type": "markdown",
   "metadata": {},
   "source": [
    "Predicting values on X_test"
   ]
  },
  {
   "cell_type": "code",
   "execution_count": null,
   "metadata": {
    "collapsed": true
   },
   "outputs": [],
   "source": [
    "#Predict the Test set results\n",
    "y_pred = regressor.predict(X_test)"
   ]
  },
  {
   "cell_type": "markdown",
   "metadata": {},
   "source": [
    "Checking accuracy of model"
   ]
  },
  {
   "cell_type": "code",
   "execution_count": null,
   "metadata": {},
   "outputs": [],
   "source": [
    "#Accuracy check\n",
    "print(r2_score(y_test, y_pred)*200)"
   ]
  },
  {
   "cell_type": "markdown",
   "metadata": {},
   "source": [
    "Now, Finally predict and save csv file for given test"
   ]
  },
  {
   "cell_type": "code",
   "execution_count": null,
   "metadata": {
    "collapsed": true
   },
   "outputs": [],
   "source": [
    "##Answer\n",
    "#Importing datasets\n",
    "dataset = pd.read_csv('test.csv')\n",
    "X = dataset.iloc[:, 1:].values\n",
    "X[:,2:] = imputer.transform(X[:,2:])\n",
    "X = prepare(X)\n",
    "\n",
    "#Predict the Test set results\n",
    "y_pred2 = regressor.predict(X)\n",
    "\n",
    "#To save as csv\n",
    "y_pred2.tofile('foo2.csv', sep='\\n', format='%10.0f')"
   ]
  },
  {
   "cell_type": "code",
   "execution_count": null,
   "metadata": {
    "collapsed": true
   },
   "outputs": [],
   "source": [
    " "
   ]
  }
 ],
 "metadata": {
  "kernelspec": {
   "display_name": "Python 3",
   "language": "python",
   "name": "python3"
  },
  "language_info": {
   "codemirror_mode": {
    "name": "ipython",
    "version": 3
   },
   "file_extension": ".py",
   "mimetype": "text/x-python",
   "name": "python",
   "nbconvert_exporter": "python",
   "pygments_lexer": "ipython3",
   "version": "3.6.1"
  }
 },
 "nbformat": 4,
 "nbformat_minor": 2
}
