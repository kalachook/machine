{
 "cells": [
  {
   "cell_type": "markdown",
   "metadata": {},
   "source": [
    "# Problem 2 - Intracity fare estimation problem"
   ]
  },
  {
   "cell_type": "markdown",
   "metadata": {},
   "source": [
    " Firstly we import all libraries that we are going to use in below to solve problem."
   ]
  },
  {
   "cell_type": "code",
   "execution_count": null,
   "metadata": {
    "collapsed": true
   },
   "outputs": [],
   "source": [
    "#Importing libraries\n",
    "import numpy as np\n",
    "import matplotlib.pyplot as plt\n",
    "import pandas as pd\n",
    "from sklearn.preprocessing import LabelEncoder,OneHotEncoder\n",
    "from sklearn.ensemble import RandomForestRegressor\n",
    "from sklearn.metrics import r2_score\n",
    "from sklearn.cross_validation import train_test_split"
   ]
  },
  {
   "cell_type": "markdown",
   "metadata": {},
   "source": [
    "Now we define a function to prepare training and testing data that will be apropriate for madel, this step contain multiple steps\n",
    "\n",
    "1. Deal with LATITUDE and LONGITUDE, and convert with a location number\n",
    "2. Drop Starting and Destination coordinates\n",
    "3. Concatinate Location number to main DataFrame\n",
    "4. Deal with dates and Split Date into Year, Month, Day, Hour, Minutes and Seconds\n",
    "5. Concatinate Year, Month, Day, Hour, Minutes and Seconds to main DataFrame\n",
    "6. Delete TimeStamp column\n",
    "7. Deal with Vechile, and Change all Vechile to UpperCase\n",
    "8. Label encode Vechile and OneHotEncoder on hours"
   ]
  },
  {
   "cell_type": "code",
   "execution_count": null,
   "metadata": {
    "collapsed": true
   },
   "outputs": [],
   "source": [
    "def set_upX(X):\n",
    "    #Change X to DataFrame\n",
    "    X = pd.DataFrame(X,columns = ['TIMESTAMP','STARTING_LATITUDE','STARTING_LONGITUDE','DESTINATION_LATITUDE','DESTINATION_LONGITUDE','VEHICLE_TYPE','TOTAL_LUGGAGE_WEIGHT','WAIT_TIME','TRAFFIC_STUCK_TIME','DISTANCE'])\n",
    "    \n",
    "    #Featch City\n",
    "    chukk = []\n",
    "    for i in range(20000):\n",
    "        if ( (int(X['STARTING_LATITUDE'][i])) == 28 or (int(X['DESTINATION_LATITUDE'][i])) == 28 or (int(X['STARTING_LONGITUDE'][i])) == 76 or (int(X['DESTINATION_LONGITUDE'][i])) == 76 or ( (int(X['STARTING_LATITUDE'][i])) == 28 and (int(X['STARTING_LONGITUDE'][i])) == 77 ) or ( (int(X['STARTING_LATITUDE'][i])) == 28 and (int(X['STARTING_LONGITUDE'][i])) == 76 ) or ( (int(X['DESTINATION_LATITUDE'][i])) == 28 and (int(X['DESTINATION_LONGITUDE'][i])) == 77 ) or ((int(X['DESTINATION_LATITUDE'][i])) == 28 and (int(X['DESTINATION_LONGITUDE'][i])) == 76) ):\n",
    "            chukk.append(1)\n",
    "        elif (int(X['STARTING_LATITUDE'][i])) == 25 or (int(X['DESTINATION_LATITUDE'][i])) == 25 or (int(X['STARTING_LONGITUDE'][i])) == 82 or (int(X['STARTING_LONGITUDE'][i])) == 83 or (int(X['DESTINATION_LONGITUDE'][i])) == 82 or (int(X['DESTINATION_LONGITUDE'][i])) == 83:\n",
    "            chukk.append(2)\n",
    "        elif (int(X['STARTING_LATITUDE'][i])) == 22 or (int(X['DESTINATION_LATITUDE'][i])) == 22 or (int(X['STARTING_LONGITUDE'][i])) == 88 or (int(X['DESTINATION_LONGITUDE'][i])) == 88:\n",
    "            chukk.append(3)\n",
    "        elif (int(X['STARTING_LATITUDE'][i])) == 19 or (int(X['DESTINATION_LATITUDE'][i])) == 19 or (int(X['STARTING_LONGITUDE'][i])) == 72 or (int(X['DESTINATION_LONGITUDE'][i])) == 72:\n",
    "            chukk.append(4)\n",
    "        elif (int(X['STARTING_LONGITUDE'][i])) == 80 or (int(X['DESTINATION_LONGITUDE'][i])) == 80 or ( (int(X['STARTING_LATITUDE'][i])) == 12 and (int(X['STARTING_LONGITUDE'][i])) == 80 ) or ( (int(X['STARTING_LATITUDE'][i])) == 13 and (int(X['STARTING_LONGITUDE'][i])) == 80 ) or ( (int(X['DESTINATION_LATITUDE'][i])) == 12 and (int(X['DESTINATION_LONGITUDE'][i])) == 80 ) or ( (int(X['DESTINATION_LATITUDE'][i])) == 13 and (int(X['DESTINATION_LONGITUDE'][i])) == 80 ):\n",
    "            chukk.append(5)\n",
    "        elif (int(X['STARTING_LONGITUDE'][i])) == 77 or (int(X['DESTINATION_LONGITUDE'][i])) == 77 or ( (int(X['STARTING_LATITUDE'][i])) == 12 and (int(X['STARTING_LONGITUDE'][i])) == 77 ) or ( (int(X['STARTING_LATITUDE'][i])) == 13 and (int(X['STARTING_LONGITUDE'][i])) == 77 ) or ( (int(X['DESTINATION_LATITUDE'][i])) == 12 and (int(X['DESTINATION_LONGITUDE'][i])) == 77 ) or ( (int(X['DESTINATION_LATITUDE'][i])) == 13 and (int(X['DESTINATION_LONGITUDE'][i])) == 77 ):\n",
    "            chukk.append(6)\n",
    "        else:\n",
    "            chukk.append(0)\n",
    "     \n",
    "    chukk = pd.DataFrame(chukk,columns = ['City'])\n",
    "     \n",
    "    #Delete Starting and Destination coordinates\n",
    "    X.drop('STARTING_LATITUDE',axis=1,inplace=True)\n",
    "    X.drop('STARTING_LONGITUDE',axis=1,inplace=True)\n",
    "    X.drop('DESTINATION_LATITUDE',axis=1,inplace=True)\n",
    "    X.drop('DESTINATION_LONGITUDE',axis=1,inplace=True)\n",
    "    \n",
    "    #Concatinate Location to main DataFrame\n",
    "    X = pd.concat([X,chukk], axis=1)\n",
    "     \n",
    "    #Deal with dates\n",
    "    #Split Date into Year, Month, Day, Hour, Minutes, Seconds\n",
    "    temp = pd.DataFrame(X.TIMESTAMP.str.split().tolist(), columns=\"DATE TIME\".split())\n",
    "    temp2 = pd.DataFrame(temp.DATE.str.split('-').tolist(), columns=\"YEAR MONTH DAY\".split())\n",
    "    temp3 = pd.DataFrame(temp.TIME.str.split(':').tolist(), columns=\"HOUR MINUTS SECONDS\".split())\n",
    "     \n",
    "    #Concatinate Year, Month, Day, Hour, Minutes, Seconds\n",
    "    result = pd.concat([temp2,temp3],axis=1)\n",
    "    X = pd.concat([X,result], axis=1)\n",
    "    \n",
    "    #Delete TimeStamp column\n",
    "    X.drop('TIMESTAMP',axis=1,inplace=True)\n",
    "     \n",
    "     \n",
    "    #Deal with Vechile\n",
    "    #Change all Vechile to UpperCase\n",
    "    chukk = []\n",
    "    for i in range(20000):\n",
    "        chukk.append(X['VEHICLE_TYPE'][i].upper())\n",
    "    \n",
    "    #Replace with UpderCase column\n",
    "    X['VEHICLE_TYPE'] = chukk\n",
    "    \n",
    "    labelencoder = LabelEncoder()\n",
    "    result = X.iloc[:,:].values\n",
    "    result[:, 0] = labelencoder.fit_transform(result[:, 0])\n",
    "    \n",
    "    onehotencoder = OneHotEncoder(categorical_features = [7])\n",
    "    result = onehotencoder.fit_transform(result).toarray()\n",
    "    result = result[:,1:]\n",
    "    result = result.astype(float)\n",
    "     \n",
    "    X = result\n",
    "    return X"
   ]
  },
  {
   "cell_type": "markdown",
   "metadata": {},
   "source": [
    "Import dataset to train model"
   ]
  },
  {
   "cell_type": "code",
   "execution_count": null,
   "metadata": {
    "collapsed": true
   },
   "outputs": [],
   "source": [
    "#Importing datasets\n",
    "dataset = pd.read_csv('train.csv')"
   ]
  },
  {
   "cell_type": "markdown",
   "metadata": {},
   "source": [
    "Fill NaN with -1 and Split dataset to X and y"
   ]
  },
  {
   "cell_type": "code",
   "execution_count": null,
   "metadata": {
    "collapsed": true
   },
   "outputs": [],
   "source": [
    "#Filling NaN\n",
    "dataset = dataset.fillna(-1)\n",
    "X = dataset.iloc[:,1:-1].values\n",
    "y = dataset.iloc[:,-1].values"
   ]
  },
  {
   "cell_type": "markdown",
   "metadata": {},
   "source": [
    "Prepare X for model by calling function that we were created above"
   ]
  },
  {
   "cell_type": "code",
   "execution_count": null,
   "metadata": {
    "collapsed": true
   },
   "outputs": [],
   "source": [
    "#Setting up X\n",
    "X=set_upX(X)"
   ]
  },
  {
   "cell_type": "markdown",
   "metadata": {},
   "source": [
    "Split X to Train and Test set by 80% and 20% respectively"
   ]
  },
  {
   "cell_type": "code",
   "execution_count": null,
   "metadata": {
    "collapsed": true
   },
   "outputs": [],
   "source": [
    "# Splitting the dataset into the Training set and Test set\n",
    "X_train, X_test, y_train, y_test = train_test_split(X,y,test_size = 0.2,random_state = 0)"
   ]
  },
  {
   "cell_type": "markdown",
   "metadata": {},
   "source": [
    "Fitting model on training set"
   ]
  },
  {
   "cell_type": "code",
   "execution_count": null,
   "metadata": {
    "collapsed": true
   },
   "outputs": [],
   "source": [
    "#Fitting RandomForestRegressor to Training set\n",
    "reg = RandomForestRegressor(random_state = 0, max_features = 0.85, min_samples_leaf = 9,n_estimators = 685, n_jobs = -1)\n",
    "reg.fit(X_train, y_train)"
   ]
  },
  {
   "cell_type": "markdown",
   "metadata": {},
   "source": [
    "Predicting values on X_test"
   ]
  },
  {
   "cell_type": "code",
   "execution_count": null,
   "metadata": {
    "collapsed": true
   },
   "outputs": [],
   "source": [
    "#Predict the Test set results\n",
    "y_pred = reg.predict(X_test)"
   ]
  },
  {
   "cell_type": "markdown",
   "metadata": {},
   "source": [
    "Checking accuracy of model"
   ]
  },
  {
   "cell_type": "code",
   "execution_count": null,
   "metadata": {
    "collapsed": true
   },
   "outputs": [],
   "source": [
    "#Accuracy check\n",
    "print(r2_score(y_test, y_pred)*200)"
   ]
  },
  {
   "cell_type": "markdown",
   "metadata": {},
   "source": [
    "Now, Finally predict and save csv file for given test"
   ]
  },
  {
   "cell_type": "code",
   "execution_count": null,
   "metadata": {
    "collapsed": true
   },
   "outputs": [],
   "source": [
    "#Answer\n",
    "#Importing datasets\n",
    "Xans=pd.read_csv('test.csv')\n",
    "Xans = Xans.fillna(-1)\n",
    "Xans=Xans.iloc[:,1:].values\n",
    "Xans=set_upX(Xans)\n",
    "\n",
    "#Predict the Test set results\n",
    "y_pred2=reg.predict(Xans)\n",
    "\n",
    "#To save as csv\n",
    "y_pred2.tofile('foo.csv', sep='\\n', format='%10.6f')"
   ]
  },
  {
   "cell_type": "code",
   "execution_count": null,
   "metadata": {
    "collapsed": true
   },
   "outputs": [],
   "source": []
  }
 ],
 "metadata": {
  "kernelspec": {
   "display_name": "Python 3",
   "language": "python",
   "name": "python3"
  },
  "language_info": {
   "codemirror_mode": {
    "name": "ipython",
    "version": 3
   },
   "file_extension": ".py",
   "mimetype": "text/x-python",
   "name": "python",
   "nbconvert_exporter": "python",
   "pygments_lexer": "ipython3",
   "version": "3.6.1"
  }
 },
 "nbformat": 4,
 "nbformat_minor": 2
}
